{
 "cells": [
  {
   "cell_type": "markdown",
   "id": "bc9d465d-cf4c-45e2-befd-d87a8c07f497",
   "metadata": {},
   "source": [
    "## <span style=\"color:brown\"><center> Phone Number Details Program </center></span>"
   ]
  },
  {
   "cell_type": "markdown",
   "id": "c102f7be-0534-4333-8095-c99f456aff8b",
   "metadata": {},
   "source": [
    "#### Install phonenumbers Library"
   ]
  },
  {
   "cell_type": "code",
   "execution_count": null,
   "id": "c664188a-5f07-49ea-8497-f475a09af209",
   "metadata": {},
   "outputs": [],
   "source": [
    "pip install phonenumbers"
   ]
  },
  {
   "cell_type": "markdown",
   "id": "6272d509-1fa8-44cd-828c-76b6531b2e10",
   "metadata": {
    "tags": []
   },
   "source": [
    "#### Import phonenumbers Library & it's some basic componenets"
   ]
  },
  {
   "cell_type": "code",
   "execution_count": 1,
   "id": "da8b5255-cb0c-4fbd-87dc-5ebf5d96506a",
   "metadata": {
    "tags": []
   },
   "outputs": [],
   "source": [
    "import phonenumbers as pns\n",
    "from phonenumbers import carrier    # Service Provider\n",
    "from phonenumbers import geocoder   # Country \n",
    "from phonenumbers import timezone   # Region"
   ]
  },
  {
   "cell_type": "markdown",
   "id": "07417d39-c017-4ee6-a06b-84bf2b83c7ae",
   "metadata": {},
   "source": [
    "#### Type Mobile Number for basic details (with Country code)"
   ]
  },
  {
   "cell_type": "code",
   "execution_count": 3,
   "id": "73755202-13a7-4697-82e4-5fff857f5aaa",
   "metadata": {
    "tags": []
   },
   "outputs": [
    {
     "name": "stdin",
     "output_type": "stream",
     "text": [
      "Enter mobile no. with country dialing code (like +910000000000 for india):  +447458196483\n"
     ]
    }
   ],
   "source": [
    "mob=input('Enter mobile no. with country dialing code (like +910000000000 for india): ')"
   ]
  },
  {
   "cell_type": "markdown",
   "id": "8e361306-9fa7-4ba4-9a64-bbbb31994eac",
   "metadata": {},
   "source": [
    "#### Parse the details of Mobile no."
   ]
  },
  {
   "cell_type": "code",
   "execution_count": 5,
   "id": "5fe0eda3-ac62-4919-98ba-89386838a54e",
   "metadata": {
    "tags": []
   },
   "outputs": [],
   "source": [
    "mob= pns.parse(mob)"
   ]
  },
  {
   "cell_type": "markdown",
   "id": "1a17489b-7359-4679-be6e-b87efe4a86f7",
   "metadata": {},
   "source": [
    "#### Print the basic details of given Mobile no."
   ]
  },
  {
   "cell_type": "code",
   "execution_count": 7,
   "id": "19a4832f-902b-4e40-8a04-c2014b5b380c",
   "metadata": {
    "tags": []
   },
   "outputs": [
    {
     "name": "stdout",
     "output_type": "stream",
     "text": [
      "Gamma Telecom\n",
      "GB\n",
      "('Europe/Guernsey', 'Europe/Isle_of_Man', 'Europe/Jersey', 'Europe/London')\n",
      "United Kingdom\n"
     ]
    }
   ],
   "source": [
    "print(carrier.name_for_number(mob, 'en'))  # service provider of no.\n",
    "print(carrier.region_code_for_number(mob)) # region code of no.\n",
    "print(timezone.time_zones_for_number(mob)) # region of no.\n",
    "print(geocoder.description_for_number(mob, 'en'))  # country of no."
   ]
  },
  {
   "cell_type": "code",
   "execution_count": null,
   "id": "4e35309f-3122-4a7c-bf07-8aa4cf828fc5",
   "metadata": {},
   "outputs": [],
   "source": []
  }
 ],
 "metadata": {
  "kernelspec": {
   "display_name": "Python 3 (ipykernel)",
   "language": "python",
   "name": "python3"
  },
  "language_info": {
   "codemirror_mode": {
    "name": "ipython",
    "version": 3
   },
   "file_extension": ".py",
   "mimetype": "text/x-python",
   "name": "python",
   "nbconvert_exporter": "python",
   "pygments_lexer": "ipython3",
   "version": "3.11.5"
  }
 },
 "nbformat": 4,
 "nbformat_minor": 5
}
