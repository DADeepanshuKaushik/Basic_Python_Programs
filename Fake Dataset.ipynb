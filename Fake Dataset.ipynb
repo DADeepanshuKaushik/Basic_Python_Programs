{
 "cells": [
  {
   "cell_type": "markdown",
   "id": "d774963d-53a2-43e3-b829-4d5891e6f163",
   "metadata": {},
   "source": [
    "## <span style=\"color:brown\"><center> Fake Dummy Dataset Program </center></span>"
   ]
  },
  {
   "cell_type": "code",
   "execution_count": null,
   "id": "9843b9f0-b8c7-43bc-bda2-3e1cb4882224",
   "metadata": {
    "tags": []
   },
   "outputs": [],
   "source": [
    "# install faker library\n",
    "pip install Faker"
   ]
  },
  {
   "cell_type": "code",
   "execution_count": 1,
   "id": "17812814-ede2-4b72-8f32-8324aed83b2b",
   "metadata": {
    "tags": []
   },
   "outputs": [],
   "source": [
    "# Import Faker module from Library\n",
    "from faker import Faker"
   ]
  },
  {
   "cell_type": "code",
   "execution_count": 3,
   "id": "d1cff9cb-ab4f-47bb-a755-4b4f6b2cec11",
   "metadata": {
    "tags": []
   },
   "outputs": [],
   "source": [
    "# create var for Fake data\n",
    "dummy = Faker()"
   ]
  },
  {
   "cell_type": "code",
   "execution_count": 5,
   "id": "9bcfe4a4-21fb-4806-9579-f2da0d25a5b8",
   "metadata": {
    "tags": []
   },
   "outputs": [
    {
     "name": "stdout",
     "output_type": "stream",
     "text": [
      "Gabriel Smith\n",
      "4210 Morris Fork\n",
      "Lucasport, MA 81368\n",
      "Detail relate list whatever meeting research. Listen policy daughter occur production. Else building commercial.\n"
     ]
    }
   ],
   "source": [
    "# print some basic Fake data\n",
    "print(dummy.name())     # print fake name\n",
    "print(dummy.address())  # print fake address\n",
    "print(dummy.text())     # print fake text"
   ]
  },
  {
   "cell_type": "code",
   "execution_count": 7,
   "id": "4d787e38-b1b9-4dcf-a77e-124331c7af4e",
   "metadata": {
    "tags": []
   },
   "outputs": [
    {
     "name": "stdout",
     "output_type": "stream",
     "text": [
      "Sarah  Jurado\n",
      "John  Smith\n",
      "Gabriela  Bowers\n",
      "Whitney  Garcés\n",
      "Kyle  Serra\n"
     ]
    }
   ],
   "source": [
    "# Print localize fake data\n",
    "fake = Faker([\"es_ES\",\"en_US\"])\n",
    "for _ in range(5):\n",
    "    print(fake.unique.first_name(),end=\"  \")\n",
    "    print(fake.unique.last_name())"
   ]
  },
  {
   "cell_type": "code",
   "execution_count": 9,
   "id": "58636f1f-aac3-45d5-a209-c453c0489556",
   "metadata": {
    "tags": []
   },
   "outputs": [
    {
     "data": {
      "text/plain": [
       "{'job': 'Chapista',\n",
       " 'company': 'Compañía Perea & Asociados S.Coop.',\n",
       " 'ssn': '567-82-4076',\n",
       " 'residence': 'Paseo de Maximiliano Torrecilla 43 Piso 2 \\nBarcelona, 45677',\n",
       " 'current_location': (Decimal('-52.1830255'), Decimal('104.460833')),\n",
       " 'blood_group': 'B+',\n",
       " 'website': ['https://consuelo.net/'],\n",
       " 'username': 'bgoni',\n",
       " 'name': 'Lorenza Nebot-Riquelme',\n",
       " 'sex': 'F',\n",
       " 'address': 'Paseo Graciano Noriega 845\\nAlmería, 40163',\n",
       " 'mail': 'americopizarro@yahoo.com',\n",
       " 'birthdate': datetime.date(1991, 1, 19)}"
      ]
     },
     "execution_count": 9,
     "metadata": {},
     "output_type": "execute_result"
    }
   ],
   "source": [
    "# Print localize fake profile\n",
    "fake = Faker(\"es_ES\")\n",
    "fake.profile()"
   ]
  },
  {
   "cell_type": "markdown",
   "id": "43f5dd23-9fa8-498f-84f2-e880e4cb642b",
   "metadata": {},
   "source": [
    "#### Create Dataframe with Fake details"
   ]
  },
  {
   "cell_type": "code",
   "execution_count": 11,
   "id": "bd4dc234-e201-4bb9-bd21-3c19f47109e7",
   "metadata": {
    "tags": []
   },
   "outputs": [],
   "source": [
    "# Import Pandas for Dataframe\n",
    "import pandas as pd"
   ]
  },
  {
   "cell_type": "code",
   "execution_count": 13,
   "id": "da4bab2d-422d-433f-bc30-3904ca331419",
   "metadata": {
    "tags": []
   },
   "outputs": [],
   "source": [
    "# Create Fake Dataframe using Profile function of Faker Library\n",
    "dataframe = [dummy.profile() for i in range(500)]\n",
    "dataframe = pd.DataFrame(dataframe)"
   ]
  },
  {
   "cell_type": "code",
   "execution_count": 15,
   "id": "7a6dd2f7-b653-4571-bc00-8f169cd814af",
   "metadata": {
    "tags": []
   },
   "outputs": [
    {
     "name": "stdout",
     "output_type": "stream",
     "text": [
      "                       job            company          ssn  \\\n",
      "0      Structural engineer  English-Rodriguez  812-74-1934   \n",
      "1      Geologist, wellsite         Monroe Ltd  684-66-7769   \n",
      "2  Agricultural consultant           Dunn LLC  670-15-5671   \n",
      "3           Pharmacologist    Thompson-Moreno  633-72-0713   \n",
      "4          Tourism officer     Collins-Thomas  346-74-8198   \n",
      "\n",
      "                                           residence  \\\n",
      "0  525 Melissa Springs Apt. 232\\nCunninghamville,...   \n",
      "1          9867 Evelyn Court\\nSuzanneville, MP 44754   \n",
      "2          0091 Duncan Springs\\nOlivertown, FL 17209   \n",
      "3                        USNV Gonzalez\\nFPO AP 78513   \n",
      "4          07603 Beasley Bridge\\nCurtiston, FL 86288   \n",
      "\n",
      "            current_location blood_group  \\\n",
      "0  (-62.4788535, 103.448028)         AB-   \n",
      "1    (-22.815158, 31.535609)         AB-   \n",
      "2     (-22.306065, 5.234423)          B-   \n",
      "3   (41.1962675, 126.948254)         AB+   \n",
      "4    (41.824114, 138.716184)         AB-   \n",
      "\n",
      "                                             website        username  \\\n",
      "0     [http://www.white.org/, http://www.smith.com/]      samantha20   \n",
      "1  [https://www.marshall.org/, http://www.cook.bi...         pgraham   \n",
      "2                        [https://www.peterson.com/]  tuckerbrittany   \n",
      "3  [https://www.hutchinson.com/, https://www.king...         kathy96   \n",
      "4                            [https://mitchell.com/]   brownnicholas   \n",
      "\n",
      "              name sex                                            address  \\\n",
      "0  Darren Anderson   M  510 Jackson Meadow Apt. 161\\nJaredmouth, DC 30463   \n",
      "1      Sarah Jones   F     9430 Stephanie Land\\nChristopherberg, NJ 28407   \n",
      "2     Nicole Nixon   F  785 Morales Pike Suite 901\\nSouth Thomas, VT 5...   \n",
      "3       Gary Lewis   M     8796 Carr Course Suite 602\\nGrayberg, SC 66258   \n",
      "4    Michelle Chan   F  59459 Christopher Stream Suite 563\\nCathyfurt,...   \n",
      "\n",
      "                     mail   birthdate  \n",
      "0      lgriffin@gmail.com  2010-10-19  \n",
      "1  briansimon@hotmail.com  1953-07-18  \n",
      "2    carlos91@hotmail.com  1952-12-25  \n",
      "3      andrew59@yahoo.com  1947-08-01  \n",
      "4      isweeney@yahoo.com  1951-02-05  \n"
     ]
    }
   ],
   "source": [
    "# Print Fake dataframe\n",
    "print(dataframe.head())"
   ]
  },
  {
   "cell_type": "code",
   "execution_count": 17,
   "id": "9a4ff271-0206-4654-aeff-8a79f4abfd72",
   "metadata": {
    "tags": []
   },
   "outputs": [
    {
     "data": {
      "text/html": [
       "<div>\n",
       "<style scoped>\n",
       "    .dataframe tbody tr th:only-of-type {\n",
       "        vertical-align: middle;\n",
       "    }\n",
       "\n",
       "    .dataframe tbody tr th {\n",
       "        vertical-align: top;\n",
       "    }\n",
       "\n",
       "    .dataframe thead th {\n",
       "        text-align: right;\n",
       "    }\n",
       "</style>\n",
       "<table border=\"1\" class=\"dataframe\">\n",
       "  <thead>\n",
       "    <tr style=\"text-align: right;\">\n",
       "      <th></th>\n",
       "      <th>job</th>\n",
       "      <th>company</th>\n",
       "      <th>ssn</th>\n",
       "      <th>residence</th>\n",
       "      <th>current_location</th>\n",
       "      <th>blood_group</th>\n",
       "      <th>website</th>\n",
       "      <th>username</th>\n",
       "      <th>name</th>\n",
       "      <th>sex</th>\n",
       "      <th>address</th>\n",
       "      <th>mail</th>\n",
       "      <th>birthdate</th>\n",
       "    </tr>\n",
       "  </thead>\n",
       "  <tbody>\n",
       "    <tr>\n",
       "      <th>0</th>\n",
       "      <td>Structural engineer</td>\n",
       "      <td>English-Rodriguez</td>\n",
       "      <td>812-74-1934</td>\n",
       "      <td>525 Melissa Springs Apt. 232\\nCunninghamville,...</td>\n",
       "      <td>(-62.4788535, 103.448028)</td>\n",
       "      <td>AB-</td>\n",
       "      <td>[http://www.white.org/, http://www.smith.com/]</td>\n",
       "      <td>samantha20</td>\n",
       "      <td>Darren Anderson</td>\n",
       "      <td>M</td>\n",
       "      <td>510 Jackson Meadow Apt. 161\\nJaredmouth, DC 30463</td>\n",
       "      <td>lgriffin@gmail.com</td>\n",
       "      <td>2010-10-19</td>\n",
       "    </tr>\n",
       "    <tr>\n",
       "      <th>1</th>\n",
       "      <td>Geologist, wellsite</td>\n",
       "      <td>Monroe Ltd</td>\n",
       "      <td>684-66-7769</td>\n",
       "      <td>9867 Evelyn Court\\nSuzanneville, MP 44754</td>\n",
       "      <td>(-22.815158, 31.535609)</td>\n",
       "      <td>AB-</td>\n",
       "      <td>[https://www.marshall.org/, http://www.cook.bi...</td>\n",
       "      <td>pgraham</td>\n",
       "      <td>Sarah Jones</td>\n",
       "      <td>F</td>\n",
       "      <td>9430 Stephanie Land\\nChristopherberg, NJ 28407</td>\n",
       "      <td>briansimon@hotmail.com</td>\n",
       "      <td>1953-07-18</td>\n",
       "    </tr>\n",
       "    <tr>\n",
       "      <th>2</th>\n",
       "      <td>Agricultural consultant</td>\n",
       "      <td>Dunn LLC</td>\n",
       "      <td>670-15-5671</td>\n",
       "      <td>0091 Duncan Springs\\nOlivertown, FL 17209</td>\n",
       "      <td>(-22.306065, 5.234423)</td>\n",
       "      <td>B-</td>\n",
       "      <td>[https://www.peterson.com/]</td>\n",
       "      <td>tuckerbrittany</td>\n",
       "      <td>Nicole Nixon</td>\n",
       "      <td>F</td>\n",
       "      <td>785 Morales Pike Suite 901\\nSouth Thomas, VT 5...</td>\n",
       "      <td>carlos91@hotmail.com</td>\n",
       "      <td>1952-12-25</td>\n",
       "    </tr>\n",
       "    <tr>\n",
       "      <th>3</th>\n",
       "      <td>Pharmacologist</td>\n",
       "      <td>Thompson-Moreno</td>\n",
       "      <td>633-72-0713</td>\n",
       "      <td>USNV Gonzalez\\nFPO AP 78513</td>\n",
       "      <td>(41.1962675, 126.948254)</td>\n",
       "      <td>AB+</td>\n",
       "      <td>[https://www.hutchinson.com/, https://www.king...</td>\n",
       "      <td>kathy96</td>\n",
       "      <td>Gary Lewis</td>\n",
       "      <td>M</td>\n",
       "      <td>8796 Carr Course Suite 602\\nGrayberg, SC 66258</td>\n",
       "      <td>andrew59@yahoo.com</td>\n",
       "      <td>1947-08-01</td>\n",
       "    </tr>\n",
       "    <tr>\n",
       "      <th>4</th>\n",
       "      <td>Tourism officer</td>\n",
       "      <td>Collins-Thomas</td>\n",
       "      <td>346-74-8198</td>\n",
       "      <td>07603 Beasley Bridge\\nCurtiston, FL 86288</td>\n",
       "      <td>(41.824114, 138.716184)</td>\n",
       "      <td>AB-</td>\n",
       "      <td>[https://mitchell.com/]</td>\n",
       "      <td>brownnicholas</td>\n",
       "      <td>Michelle Chan</td>\n",
       "      <td>F</td>\n",
       "      <td>59459 Christopher Stream Suite 563\\nCathyfurt,...</td>\n",
       "      <td>isweeney@yahoo.com</td>\n",
       "      <td>1951-02-05</td>\n",
       "    </tr>\n",
       "  </tbody>\n",
       "</table>\n",
       "</div>"
      ],
      "text/plain": [
       "                       job            company          ssn  \\\n",
       "0      Structural engineer  English-Rodriguez  812-74-1934   \n",
       "1      Geologist, wellsite         Monroe Ltd  684-66-7769   \n",
       "2  Agricultural consultant           Dunn LLC  670-15-5671   \n",
       "3           Pharmacologist    Thompson-Moreno  633-72-0713   \n",
       "4          Tourism officer     Collins-Thomas  346-74-8198   \n",
       "\n",
       "                                           residence  \\\n",
       "0  525 Melissa Springs Apt. 232\\nCunninghamville,...   \n",
       "1          9867 Evelyn Court\\nSuzanneville, MP 44754   \n",
       "2          0091 Duncan Springs\\nOlivertown, FL 17209   \n",
       "3                        USNV Gonzalez\\nFPO AP 78513   \n",
       "4          07603 Beasley Bridge\\nCurtiston, FL 86288   \n",
       "\n",
       "            current_location blood_group  \\\n",
       "0  (-62.4788535, 103.448028)         AB-   \n",
       "1    (-22.815158, 31.535609)         AB-   \n",
       "2     (-22.306065, 5.234423)          B-   \n",
       "3   (41.1962675, 126.948254)         AB+   \n",
       "4    (41.824114, 138.716184)         AB-   \n",
       "\n",
       "                                             website        username  \\\n",
       "0     [http://www.white.org/, http://www.smith.com/]      samantha20   \n",
       "1  [https://www.marshall.org/, http://www.cook.bi...         pgraham   \n",
       "2                        [https://www.peterson.com/]  tuckerbrittany   \n",
       "3  [https://www.hutchinson.com/, https://www.king...         kathy96   \n",
       "4                            [https://mitchell.com/]   brownnicholas   \n",
       "\n",
       "              name sex                                            address  \\\n",
       "0  Darren Anderson   M  510 Jackson Meadow Apt. 161\\nJaredmouth, DC 30463   \n",
       "1      Sarah Jones   F     9430 Stephanie Land\\nChristopherberg, NJ 28407   \n",
       "2     Nicole Nixon   F  785 Morales Pike Suite 901\\nSouth Thomas, VT 5...   \n",
       "3       Gary Lewis   M     8796 Carr Course Suite 602\\nGrayberg, SC 66258   \n",
       "4    Michelle Chan   F  59459 Christopher Stream Suite 563\\nCathyfurt,...   \n",
       "\n",
       "                     mail   birthdate  \n",
       "0      lgriffin@gmail.com  2010-10-19  \n",
       "1  briansimon@hotmail.com  1953-07-18  \n",
       "2    carlos91@hotmail.com  1952-12-25  \n",
       "3      andrew59@yahoo.com  1947-08-01  \n",
       "4      isweeney@yahoo.com  1951-02-05  "
      ]
     },
     "execution_count": 17,
     "metadata": {},
     "output_type": "execute_result"
    }
   ],
   "source": [
    "dataframe.head()"
   ]
  },
  {
   "cell_type": "code",
   "execution_count": 19,
   "id": "083118cb-c51c-4a4a-afb7-b99571b118f7",
   "metadata": {
    "tags": []
   },
   "outputs": [],
   "source": [
    "# Write dataframe in Excel file\n",
    "dataframe.to_excel('fakedataset.xlsx',sheet_name=\"Sheet1\")"
   ]
  },
  {
   "cell_type": "code",
   "execution_count": null,
   "id": "cde8a225-e5c8-412c-9168-d289e1c63f85",
   "metadata": {},
   "outputs": [],
   "source": []
  }
 ],
 "metadata": {
  "kernelspec": {
   "display_name": "Python 3 (ipykernel)",
   "language": "python",
   "name": "python3"
  },
  "language_info": {
   "codemirror_mode": {
    "name": "ipython",
    "version": 3
   },
   "file_extension": ".py",
   "mimetype": "text/x-python",
   "name": "python",
   "nbconvert_exporter": "python",
   "pygments_lexer": "ipython3",
   "version": "3.11.5"
  }
 },
 "nbformat": 4,
 "nbformat_minor": 5
}
