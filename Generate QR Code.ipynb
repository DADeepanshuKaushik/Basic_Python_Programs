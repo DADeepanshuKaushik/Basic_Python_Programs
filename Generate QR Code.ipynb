{
 "cells": [
  {
   "cell_type": "markdown",
   "id": "e1e01734-9bf1-4a5a-a2cd-d17438c06af6",
   "metadata": {},
   "source": [
    "## <span style=\"color:brown\"><center> Generate QR Code Program </center></span>"
   ]
  },
  {
   "cell_type": "markdown",
   "id": "4a6b1107-2e46-4eeb-b310-560927f3f1ad",
   "metadata": {
    "tags": []
   },
   "source": [
    "#### Download & Install required Library"
   ]
  },
  {
   "cell_type": "code",
   "execution_count": null,
   "id": "79e7bce9-e934-44b0-bdeb-b6a05d52b22f",
   "metadata": {
    "tags": []
   },
   "outputs": [],
   "source": [
    "pip install qrcode"
   ]
  },
  {
   "cell_type": "markdown",
   "id": "143bc2c3-1e7d-4423-87fc-e2c229194ec1",
   "metadata": {},
   "source": [
    "#### Import qrcode module to generate QR Code"
   ]
  },
  {
   "cell_type": "code",
   "execution_count": 1,
   "id": "f0b5f3c3-b2ae-417c-abed-31e2044a5d2b",
   "metadata": {
    "tags": []
   },
   "outputs": [],
   "source": [
    "import qrcode"
   ]
  },
  {
   "cell_type": "markdown",
   "id": "3f8c5038-4df2-4157-a62f-bfb4ac1c9242",
   "metadata": {
    "tags": []
   },
   "source": [
    "### Code to generate QR Code and save it into image file"
   ]
  },
  {
   "cell_type": "markdown",
   "id": "7ff4623a-f837-4bfb-92bc-268441ea404d",
   "metadata": {},
   "source": [
    "#### Define the structure of QR Code and save it into a variable"
   ]
  },
  {
   "cell_type": "code",
   "execution_count": 3,
   "id": "1d349991-9961-4529-98ee-fcb50ca3d5b8",
   "metadata": {
    "tags": []
   },
   "outputs": [],
   "source": [
    "qr = qrcode.QRCode(version=1,\n",
    "                  error_correction=qrcode.constants.ERROR_CORRECT_H,\n",
    "                  box_size=20, border=4,)"
   ]
  },
  {
   "cell_type": "markdown",
   "id": "cc4dcc37-c00e-49b3-96ea-5109fcd71c51",
   "metadata": {},
   "source": [
    "#### Write the data for QR Code"
   ]
  },
  {
   "cell_type": "code",
   "execution_count": 5,
   "id": "560a0fb2-46be-45c2-a384-348a9d06b749",
   "metadata": {
    "tags": []
   },
   "outputs": [
    {
     "name": "stdin",
     "output_type": "stream",
     "text": [
      "Type or Paste data hare for QR Code:  We take pride in our platform. Our free temporary phone numbers are updated every month.\n"
     ]
    }
   ],
   "source": [
    "qr_data = input(\"Type or Paste data hare for QR Code: \")"
   ]
  },
  {
   "cell_type": "markdown",
   "id": "630893a8-015f-47f8-859c-f3c9e85a4ea0",
   "metadata": {},
   "source": [
    "#### Add data into QR image"
   ]
  },
  {
   "cell_type": "code",
   "execution_count": 7,
   "id": "35636761-c57b-4c98-a877-d2d04e47014b",
   "metadata": {
    "tags": []
   },
   "outputs": [],
   "source": [
    "qr.add_data(qr_data) "
   ]
  },
  {
   "cell_type": "markdown",
   "id": "759f7d38-46dd-46c4-89ca-1fc6c7d730ab",
   "metadata": {},
   "source": [
    "#### Create QR Code for given data"
   ]
  },
  {
   "cell_type": "code",
   "execution_count": 9,
   "id": "9ee853b0-63fc-4ded-b26f-424bd72d74f9",
   "metadata": {
    "tags": []
   },
   "outputs": [],
   "source": [
    "qr.make(fit=True)"
   ]
  },
  {
   "cell_type": "markdown",
   "id": "e49c441a-475a-439c-95e9-4b69ea0e4c9b",
   "metadata": {},
   "source": [
    "#### Create Image file of QR Code and also edit it"
   ]
  },
  {
   "cell_type": "code",
   "execution_count": 11,
   "id": "f30e1c07-5b9b-4c4b-bff4-9990b46f5910",
   "metadata": {
    "tags": []
   },
   "outputs": [],
   "source": [
    "img = qr.make_image(fill_color=\"black\",back_color=\"cyan\")"
   ]
  },
  {
   "cell_type": "markdown",
   "id": "07b7b882-6ce4-435c-9d2a-364dbf1820de",
   "metadata": {},
   "source": [
    "#### Save QR Code image file"
   ]
  },
  {
   "cell_type": "code",
   "execution_count": 13,
   "id": "c3b8b4e8-8b99-43e9-ad1d-f94489e805c2",
   "metadata": {
    "tags": []
   },
   "outputs": [],
   "source": [
    "img.save(\"qrcodeimg.png\")"
   ]
  },
  {
   "cell_type": "code",
   "execution_count": null,
   "id": "a2e9ac58-d115-4201-a567-241d87b5b8f0",
   "metadata": {},
   "outputs": [],
   "source": []
  }
 ],
 "metadata": {
  "kernelspec": {
   "display_name": "Python 3 (ipykernel)",
   "language": "python",
   "name": "python3"
  },
  "language_info": {
   "codemirror_mode": {
    "name": "ipython",
    "version": 3
   },
   "file_extension": ".py",
   "mimetype": "text/x-python",
   "name": "python",
   "nbconvert_exporter": "python",
   "pygments_lexer": "ipython3",
   "version": "3.11.5"
  }
 },
 "nbformat": 4,
 "nbformat_minor": 5
}
